{
 "cells": [
  {
   "cell_type": "code",
   "execution_count": 13,
   "metadata": {},
   "outputs": [],
   "source": [
    "import sys\n",
    "import os\n",
    "import comtypes.client\n",
    "import glob\n",
    "import ntpath"
   ]
  },
  {
   "cell_type": "code",
   "execution_count": 16,
   "metadata": {},
   "outputs": [],
   "source": [
    "word_files = []\n",
    "word_files.extend(glob.glob(\"F:\\LOT 1\\Ani\\Box_Sync\\Remote_Tryings\\Resume\\*.docx\"))\n",
    "word_files.extend(glob.glob(\"F:\\LOT 1\\Ani\\Box_Sync\\Remote_Tryings\\Resume\\*.doc\"))\n",
    "# print(glob.glob(\"F:\\LOT 1\\Ani\\Box_Sync\\Remote_Tryings\\Resume\\*.docx\"))\n",
    "# word_files[0]"
   ]
  },
  {
   "cell_type": "code",
   "execution_count": 43,
   "metadata": {},
   "outputs": [],
   "source": [
    "def path_leaf(path):\n",
    "    tail = os.path.dirname(path)\n",
    "    head = os.path.basename(path)\n",
    "    return {head, tail}\n",
    "h1, t1 = path_leaf(word_files[4])"
   ]
  },
  {
   "cell_type": "code",
   "execution_count": 47,
   "metadata": {},
   "outputs": [
    {
     "name": "stdout",
     "output_type": "stream",
     "text": [
      "F:\\LOT 1\\Ani\\Box_Sync\\Remote_Tryings\\Resume\n",
      "blue-layout-word-cv.docx\n",
      "F:\\LOT 1\\Ani\\Box_Sync\\Remote_Tryings\\Resume\n",
      "cv-template-profile.docx\n",
      "F:\\LOT 1\\Ani\\Box_Sync\\Remote_Tryings\\Resume\n",
      "F:\\LOT 1\\Ani\\Box_Sync\\Remote_Tryings\\Resume\n",
      "Doc1.docx\n",
      "F:\\LOT 1\\Ani\\Box_Sync\\Remote_Tryings\\Resume\n",
      "F:\\LOT 1\\Ani\\Box_Sync\\Remote_Tryings\\Resume\n",
      "Fresh-Two-Column-CV-template.docx\n",
      "F:\\LOT 1\\Ani\\Box_Sync\\Remote_Tryings\\Resume\n",
      "Doc7.doc\n",
      "F:\\LOT 1\\Ani\\Box_Sync\\Remote_Tryings\\Resume\n"
     ]
    }
   ],
   "source": [
    "wdFormatPDF = 17\n",
    "for in_file in word_files:\n",
    "    # in_file = os.path.abspath(sys.argv[1])\n",
    "    head, tail = path_leaf(in_file)\n",
    "    print(head)\n",
    "    if tail.lower().endswith('doc') or tail.lower().endswith('docx'):\n",
    "        out_file = os.path.join(head, tail.split('.')[0] + '.pdf')\n",
    "    else:\n",
    "        out_file = os.path.join(tail, head.split('.')[0] + '.pdf')\n",
    "    word = comtypes.client.CreateObject('Word.Application')\n",
    "    doc = word.Documents.Open(in_file)\n",
    "    doc.SaveAs(out_file, FileFormat=wdFormatPDF)\n",
    "    doc.Close()\n",
    "    word.Quit()"
   ]
  },
  {
   "cell_type": "code",
   "execution_count": 24,
   "metadata": {},
   "outputs": [
    {
     "data": {
      "text/plain": [
       "['F:\\\\LOT 1\\\\Ani\\\\Box_Sync\\\\Remote_Tryings\\\\Resume\\\\Arrows-CV-template.docx',\n",
       " 'F:\\\\LOT 1\\\\Ani\\\\Box_Sync\\\\Remote_Tryings\\\\Resume\\\\blue-layout-word-cv.docx',\n",
       " 'F:\\\\LOT 1\\\\Ani\\\\Box_Sync\\\\Remote_Tryings\\\\Resume\\\\College_Possible_Resume_Template.docx',\n",
       " 'F:\\\\LOT 1\\\\Ani\\\\Box_Sync\\\\Remote_Tryings\\\\Resume\\\\cv-template-profile.docx',\n",
       " 'F:\\\\LOT 1\\\\Ani\\\\Box_Sync\\\\Remote_Tryings\\\\Resume\\\\CV5.docx',\n",
       " 'F:\\\\LOT 1\\\\Ani\\\\Box_Sync\\\\Remote_Tryings\\\\Resume\\\\CV6.docx',\n",
       " 'F:\\\\LOT 1\\\\Ani\\\\Box_Sync\\\\Remote_Tryings\\\\Resume\\\\Doc1.docx',\n",
       " 'F:\\\\LOT 1\\\\Ani\\\\Box_Sync\\\\Remote_Tryings\\\\Resume\\\\Doc8.docx',\n",
       " 'F:\\\\LOT 1\\\\Ani\\\\Box_Sync\\\\Remote_Tryings\\\\Resume\\\\Elegance-CV-template.docx',\n",
       " 'F:\\\\LOT 1\\\\Ani\\\\Box_Sync\\\\Remote_Tryings\\\\Resume\\\\Fresh-Two-Column-CV-template.docx',\n",
       " 'F:\\\\LOT 1\\\\Ani\\\\Box_Sync\\\\Remote_Tryings\\\\Resume\\\\Resume Template.docx',\n",
       " 'F:\\\\LOT 1\\\\Ani\\\\Box_Sync\\\\Remote_Tryings\\\\Resume\\\\Doc7.doc',\n",
       " 'F:\\\\LOT 1\\\\Ani\\\\Box_Sync\\\\Remote_Tryings\\\\Resume\\\\Example-CV.doc']"
      ]
     },
     "execution_count": 24,
     "metadata": {},
     "output_type": "execute_result"
    }
   ],
   "source": [
    "word_files"
   ]
  },
  {
   "cell_type": "code",
   "execution_count": 45,
   "metadata": {},
   "outputs": [
    {
     "data": {
      "text/plain": [
       "'Arrows-CV-template.docx'"
      ]
     },
     "execution_count": 45,
     "metadata": {},
     "output_type": "execute_result"
    }
   ],
   "source": [
    "h1, t1 = path_leaf(word_files[0])\n",
    "t1# os.path.basename('/users/system1/student1/homework-1.py')"
   ]
  },
  {
   "cell_type": "code",
   "execution_count": null,
   "metadata": {},
   "outputs": [],
   "source": []
  }
 ],
 "metadata": {
  "kernelspec": {
   "display_name": "Python 3",
   "language": "python",
   "name": "python3"
  },
  "language_info": {
   "codemirror_mode": {
    "name": "ipython",
    "version": 3
   },
   "file_extension": ".py",
   "mimetype": "text/x-python",
   "name": "python",
   "nbconvert_exporter": "python",
   "pygments_lexer": "ipython3",
   "version": "3.6.5"
  }
 },
 "nbformat": 4,
 "nbformat_minor": 2
}
