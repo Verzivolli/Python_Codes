{
 "cells": [
  {
   "cell_type": "code",
   "execution_count": 1,
   "metadata": {},
   "outputs": [],
   "source": [
    "# splits the given indipendet variables into leafs\n",
    "# calculates the average for each leaf\n",
    "# can be very interesting model in more than one dimensional indipended data\n",
    "\n",
    "# Importing the libraries\n",
    "import numpy as np\n",
    "import matplotlib.pyplot as plt\n",
    "import pandas as pd\n",
    "import os"
   ]
  },
  {
   "cell_type": "code",
   "execution_count": 2,
   "metadata": {},
   "outputs": [],
   "source": [
    "# Importing the dataset\n",
    "# must make UTS/Laptop varibales\n",
    "ws = r\"Data\\Decision Tree Regression\"\n",
    "data_file = os.path.join(os.path.join(ws,\"data\"),'Position_Salaries.csv')\n",
    "dataset = pd.read_csv(data_file)\n",
    "# dataset"
   ]
  },
  {
   "cell_type": "code",
   "execution_count": 4,
   "metadata": {},
   "outputs": [],
   "source": [
    "# splitting the dataset\n",
    "X = dataset.iloc[:, 1:2].values\n",
    "y = dataset.iloc[:, 2].values\n",
    "# y\n"
   ]
  },
  {
   "cell_type": "code",
   "execution_count": 9,
   "metadata": {},
   "outputs": [
    {
     "data": {
      "text/plain": [
       "DecisionTreeRegressor(criterion='mse', max_depth=None, max_features=None,\n",
       "           max_leaf_nodes=None, min_impurity_decrease=0.0,\n",
       "           min_impurity_split=None, min_samples_leaf=1,\n",
       "           min_samples_split=2, min_weight_fraction_leaf=0.0,\n",
       "           presort=False, random_state=0, splitter='best')"
      ]
     },
     "execution_count": 9,
     "metadata": {},
     "output_type": "execute_result"
    }
   ],
   "source": [
    "# fitting the Decision Tree Regression to the dataset\n",
    "from sklearn.tree import DecisionTreeRegressor\n",
    "# help(DecisionTreeRegressor)\n",
    "# |  random_state : int, RandomState instance or None, optional (default=None)\n",
    "# |      If int, random_state is the seed used by the random number generator;\n",
    "# |      If RandomState instance, random_state is the random number generator;\n",
    "# |      If None, the random number generator is the RandomState instance used\n",
    "# |      by `np.random`.\n",
    "regressor = DecisionTreeRegressor(random_state = 0)\n",
    "regressor.fit(X,y)\n",
    "'''\n",
    "DecisionTreeRegressor(criterion='mse', max_depth=None, max_features=None,\n",
    "           max_leaf_nodes=None, min_impurity_decrease=0.0,\n",
    "           min_impurity_split=None, min_samples_leaf=1,\n",
    "           min_samples_split=2, min_weight_fraction_leaf=0.0,\n",
    "           presort=False, random_state=0, splitter='best')\n",
    "'''"
   ]
  },
  {
   "cell_type": "code",
   "execution_count": 10,
   "metadata": {},
   "outputs": [
    {
     "data": {
      "text/plain": [
       "array([150000.])"
      ]
     },
     "execution_count": 10,
     "metadata": {},
     "output_type": "execute_result"
    }
   ],
   "source": [
    "regressor.predict(6.5)"
   ]
  },
  {
   "cell_type": "code",
   "execution_count": 11,
   "metadata": {},
   "outputs": [
    {
     "data": {
      "image/png": "[encoded data removed]",
      "text/plain": [
       "<Figure size 432x288 with 1 Axes>"
      ]
     },
     "metadata": {},
     "output_type": "display_data"
    }
   ],
   "source": [
    "# Visualising the Training set Result\n",
    "plt.scatter(X, y, color = \"green\")\n",
    "# plt.scatter(X_test, Y_test, color = \"black\")\n",
    "plt.plot(X, regressor.predict(X), color = \"blue\")\n",
    "plt.title(\"regression tree predict\")\n",
    "plt.xlabel(\"Position level\")\n",
    "plt.ylabel(\"Salary\")\n",
    "plt.show()\n",
    "# we see it splits this example each row as single split"
   ]
  },
  {
   "cell_type": "code",
   "execution_count": 14,
   "metadata": {},
   "outputs": [
    {
     "data": {
      "image/png": "[encoded data removed]",
      "text/plain": [
       "<Figure size 432x288 with 1 Axes>"
      ]
     },
     "metadata": {},
     "output_type": "display_data"
    }
   ],
   "source": [
    "# Visualising the Training set Result\n",
    "plt.scatter(X, y, color = \"green\")\n",
    "# plt.scatter(X_test, Y_test, color = \"black\")\n",
    "X_grid = np.arange(min(X),max(X),0.01)\n",
    "X_grid = X_grid.reshape(len(X_grid), 1)\n",
    "plt.plot(X_grid, regressor.predict(X_grid), color = \"blue\")\n",
    "plt.title(\"Regression tree predict (Truth or bluff)\")\n",
    "plt.xlabel(\"Position level\")\n",
    "plt.ylabel(\"Salary\")\n",
    "plt.show()"
   ]
  },
  {
   "cell_type": "code",
   "execution_count": null,
   "metadata": {},
   "outputs": [],
   "source": []
  },
  {
   "cell_type": "code",
   "execution_count": null,
   "metadata": {},
   "outputs": [],
   "source": []
  },
  {
   "cell_type": "code",
   "execution_count": 8,
   "metadata": {
    "collapsed": true
   },
   "outputs": [
    {
     "data": {
      "text/plain": [
       "'\\n\\nhelp(DecisionTreeRegressor)\\n |  Parameters\\n |  ----------\\n |  criterion : string, optional (default=\"mse\")\\n |      The function to measure the quality of a split. Supported criteria\\n |      are \"mse\" for the mean squared error, which is equal to variance\\n |      reduction as feature selection criterion and minimizes the L2 loss\\n |      using the mean of each terminal node, \"friedman_mse\", which uses mean\\n |      squared error with Friedman\\'s improvement score for potential splits,\\n |      and \"mae\" for the mean absolute error, which minimizes the L1 loss\\n |      using the median of each terminal node.\\n |  \\n |      .. versionadded:: 0.18\\n |         Mean Absolute Error (MAE) criterion.\\n |  \\n |  splitter : string, optional (default=\"best\")\\n |      The strategy used to choose the split at each node. Supported\\n |      strategies are \"best\" to choose the best split and \"random\" to choose\\n |      the best random split.\\n |  \\n |  max_depth : int or None, optional (default=None)\\n |      The maximum depth of the tree. If None, then nodes are expanded until\\n |      all leaves are pure or until all leaves contain less than\\n |      min_samples_split samples.\\n |  \\n |  min_samples_split : int, float, optional (default=2)\\n |      The minimum number of samples required to split an internal node:\\n |  \\n |      - If int, then consider `min_samples_split` as the minimum number.\\n |      - If float, then `min_samples_split` is a percentage and\\n |        `ceil(min_samples_split * n_samples)` are the minimum\\n |        number of samples for each split.\\n |  \\n |      .. versionchanged:: 0.18\\n |         Added float values for percentages.\\n |  \\n |  min_samples_leaf : int, float, optional (default=1)\\n |      The minimum number of samples required to be at a leaf node:\\n |  \\n |      - If int, then consider `min_samples_leaf` as the minimum number.\\n |      - If float, then `min_samples_leaf` is a percentage and\\n |        `ceil(min_samples_leaf * n_samples)` are the minimum\\n |        number of samples for each node.\\n |  \\n |      .. versionchanged:: 0.18\\n |         Added float values for percentages.\\n |  \\n |  min_weight_fraction_leaf : float, optional (default=0.)\\n |      The minimum weighted fraction of the sum total of weights (of all\\n |      the input samples) required to be at a leaf node. Samples have\\n |      equal weight when sample_weight is not provided.\\n |  \\n |  max_features : int, float, string or None, optional (default=None)\\n |      The number of features to consider when looking for the best split:\\n |  \\n |      - If int, then consider `max_features` features at each split.\\n |      - If float, then `max_features` is a percentage and\\n |        `int(max_features * n_features)` features are considered at each\\n |        split.\\n |      - If \"auto\", then `max_features=n_features`.\\n |      - If \"sqrt\", then `max_features=sqrt(n_features)`.\\n |      - If \"log2\", then `max_features=log2(n_features)`.\\n |      - If None, then `max_features=n_features`.\\n |  \\n |      Note: the search for a split does not stop until at least one\\n |      valid partition of the node samples is found, even if it requires to\\n |      effectively inspect more than ``max_features`` features.\\n |  \\n |  random_state : int, RandomState instance or None, optional (default=None)\\n |      If int, random_state is the seed used by the random number generator;\\n |      If RandomState instance, random_state is the random number generator;\\n |      If None, the random number generator is the RandomState instance used\\n |      by `np.random`.\\n |  \\n |  max_leaf_nodes : int or None, optional (default=None)\\n |      Grow a tree with ``max_leaf_nodes`` in best-first fashion.\\n |      Best nodes are defined as relative reduction in impurity.\\n |      If None then unlimited number of leaf nodes.\\n |  \\n |  min_impurity_decrease : float, optional (default=0.)\\n |      A node will be split if this split induces a decrease of the impurity\\n |      greater than or equal to this value.\\n |  \\n |      The weighted impurity decrease equation is the following::\\n |  \\n |          N_t / N * (impurity - N_t_R / N_t * right_impurity\\n |                              - N_t_L / N_t * left_impurity)\\n |  \\n |      where ``N`` is the total number of samples, ``N_t`` is the number of\\n |      samples at the current node, ``N_t_L`` is the number of samples in the\\n |      left child, and ``N_t_R`` is the number of samples in the right child.\\n |  \\n |      ``N``, ``N_t``, ``N_t_R`` and ``N_t_L`` all refer to the weighted sum,\\n |      if ``sample_weight`` is passed.\\n |  \\n |      .. versionadded:: 0.19\\n |  \\n |  min_impurity_split : float,\\n |      Threshold for early stopping in tree growth. A node will split\\n |      if its impurity is above the threshold, otherwise it is a leaf.\\n |  \\n |      .. deprecated:: 0.19\\n |         ``min_impurity_split`` has been deprecated in favor of\\n |         ``min_impurity_decrease`` in 0.19 and will be removed in 0.21.\\n |         Use ``min_impurity_decrease`` instead.\\n |  \\n |  presort : bool, optional (default=False)\\n |      Whether to presort the data to speed up the finding of best splits in\\n |      fitting. For the default settings of a decision tree on large\\n |      datasets, setting this to true may slow down the training process.\\n |      When using either a smaller dataset or a restricted depth, this may\\n |      speed up the training.\\n |  \\n |  Attributes\\n |  ----------\\n |  feature_importances_ : array of shape = [n_features]\\n |      The feature importances.\\n |      The higher, the more important the feature.\\n |      The importance of a feature is computed as the\\n |      (normalized) total reduction of the criterion brought\\n |      by that feature. It is also known as the Gini importance [4]_.\\n |  \\n |  max_features_ : int,\\n |      The inferred value of max_features.\\n |  \\n |  n_features_ : int\\n |      The number of features when ``fit`` is performed.\\n |  \\n |  n_outputs_ : int\\n |      The number of outputs when ``fit`` is performed.\\n |  \\n |  tree_ : Tree object\\n |      The underlying Tree object.\\n'"
      ]
     },
     "execution_count": 8,
     "metadata": {},
     "output_type": "execute_result"
    }
   ],
   "source": [
    "'''\n",
    "# CHECK PARAMETERS\n",
    "help(DecisionTreeRegressor)\n",
    " |  Parameters\n",
    " |  ----------\n",
    " |  criterion : string, optional (default=\"mse\")\n",
    " |      The function to measure the quality of a split. Supported criteria\n",
    " |      are \"mse\" for the mean squared error, which is equal to variance\n",
    " |      reduction as feature selection criterion and minimizes the L2 loss\n",
    " |      using the mean of each terminal node, \"friedman_mse\", which uses mean\n",
    " |      squared error with Friedman's improvement score for potential splits,\n",
    " |      and \"mae\" for the mean absolute error, which minimizes the L1 loss\n",
    " |      using the median of each terminal node.\n",
    " |  \n",
    " |      .. versionadded:: 0.18\n",
    " |         Mean Absolute Error (MAE) criterion.\n",
    " |  \n",
    " |  splitter : string, optional (default=\"best\")\n",
    " |      The strategy used to choose the split at each node. Supported\n",
    " |      strategies are \"best\" to choose the best split and \"random\" to choose\n",
    " |      the best random split.\n",
    " |  \n",
    " |  max_depth : int or None, optional (default=None)\n",
    " |      The maximum depth of the tree. If None, then nodes are expanded until\n",
    " |      all leaves are pure or until all leaves contain less than\n",
    " |      min_samples_split samples.\n",
    " |  \n",
    " |  min_samples_split : int, float, optional (default=2)\n",
    " |      The minimum number of samples required to split an internal node:\n",
    " |  \n",
    " |      - If int, then consider `min_samples_split` as the minimum number.\n",
    " |      - If float, then `min_samples_split` is a percentage and\n",
    " |        `ceil(min_samples_split * n_samples)` are the minimum\n",
    " |        number of samples for each split.\n",
    " |  \n",
    " |      .. versionchanged:: 0.18\n",
    " |         Added float values for percentages.\n",
    " |  \n",
    " |  min_samples_leaf : int, float, optional (default=1)\n",
    " |      The minimum number of samples required to be at a leaf node:\n",
    " |  \n",
    " |      - If int, then consider `min_samples_leaf` as the minimum number.\n",
    " |      - If float, then `min_samples_leaf` is a percentage and\n",
    " |        `ceil(min_samples_leaf * n_samples)` are the minimum\n",
    " |        number of samples for each node.\n",
    " |  \n",
    " |      .. versionchanged:: 0.18\n",
    " |         Added float values for percentages.\n",
    " |  \n",
    " |  min_weight_fraction_leaf : float, optional (default=0.)\n",
    " |      The minimum weighted fraction of the sum total of weights (of all\n",
    " |      the input samples) required to be at a leaf node. Samples have\n",
    " |      equal weight when sample_weight is not provided.\n",
    " |  \n",
    " |  max_features : int, float, string or None, optional (default=None)\n",
    " |      The number of features to consider when looking for the best split:\n",
    " |  \n",
    " |      - If int, then consider `max_features` features at each split.\n",
    " |      - If float, then `max_features` is a percentage and\n",
    " |        `int(max_features * n_features)` features are considered at each\n",
    " |        split.\n",
    " |      - If \"auto\", then `max_features=n_features`.\n",
    " |      - If \"sqrt\", then `max_features=sqrt(n_features)`.\n",
    " |      - If \"log2\", then `max_features=log2(n_features)`.\n",
    " |      - If None, then `max_features=n_features`.\n",
    " |  \n",
    " |      Note: the search for a split does not stop until at least one\n",
    " |      valid partition of the node samples is found, even if it requires to\n",
    " |      effectively inspect more than ``max_features`` features.\n",
    " |  \n",
    " |  random_state : int, RandomState instance or None, optional (default=None)\n",
    " |      If int, random_state is the seed used by the random number generator;\n",
    " |      If RandomState instance, random_state is the random number generator;\n",
    " |      If None, the random number generator is the RandomState instance used\n",
    " |      by `np.random`.\n",
    " |  \n",
    " |  max_leaf_nodes : int or None, optional (default=None)\n",
    " |      Grow a tree with ``max_leaf_nodes`` in best-first fashion.\n",
    " |      Best nodes are defined as relative reduction in impurity.\n",
    " |      If None then unlimited number of leaf nodes.\n",
    " |  \n",
    " |  min_impurity_decrease : float, optional (default=0.)\n",
    " |      A node will be split if this split induces a decrease of the impurity\n",
    " |      greater than or equal to this value.\n",
    " |  \n",
    " |      The weighted impurity decrease equation is the following::\n",
    " |  \n",
    " |          N_t / N * (impurity - N_t_R / N_t * right_impurity\n",
    " |                              - N_t_L / N_t * left_impurity)\n",
    " |  \n",
    " |      where ``N`` is the total number of samples, ``N_t`` is the number of\n",
    " |      samples at the current node, ``N_t_L`` is the number of samples in the\n",
    " |      left child, and ``N_t_R`` is the number of samples in the right child.\n",
    " |  \n",
    " |      ``N``, ``N_t``, ``N_t_R`` and ``N_t_L`` all refer to the weighted sum,\n",
    " |      if ``sample_weight`` is passed.\n",
    " |  \n",
    " |      .. versionadded:: 0.19\n",
    " |  \n",
    " |  min_impurity_split : float,\n",
    " |      Threshold for early stopping in tree growth. A node will split\n",
    " |      if its impurity is above the threshold, otherwise it is a leaf.\n",
    " |  \n",
    " |      .. deprecated:: 0.19\n",
    " |         ``min_impurity_split`` has been deprecated in favor of\n",
    " |         ``min_impurity_decrease`` in 0.19 and will be removed in 0.21.\n",
    " |         Use ``min_impurity_decrease`` instead.\n",
    " |  \n",
    " |  presort : bool, optional (default=False)\n",
    " |      Whether to presort the data to speed up the finding of best splits in\n",
    " |      fitting. For the default settings of a decision tree on large\n",
    " |      datasets, setting this to true may slow down the training process.\n",
    " |      When using either a smaller dataset or a restricted depth, this may\n",
    " |      speed up the training.\n",
    " |  \n",
    " |  Attributes\n",
    " |  ----------\n",
    " |  feature_importances_ : array of shape = [n_features]\n",
    " |      The feature importances.\n",
    " |      The higher, the more important the feature.\n",
    " |      The importance of a feature is computed as the\n",
    " |      (normalized) total reduction of the criterion brought\n",
    " |      by that feature. It is also known as the Gini importance [4]_.\n",
    " |  \n",
    " |  max_features_ : int,\n",
    " |      The inferred value of max_features.\n",
    " |  \n",
    " |  n_features_ : int\n",
    " |      The number of features when ``fit`` is performed.\n",
    " |  \n",
    " |  n_outputs_ : int\n",
    " |      The number of outputs when ``fit`` is performed.\n",
    " |  \n",
    " |  tree_ : Tree object\n",
    " |      The underlying Tree object.\n",
    "'''\n"
   ]
  },
  {
   "cell_type": "code",
   "execution_count": null,
   "metadata": {},
   "outputs": [],
   "source": []
  }
 ],
 "metadata": {
  "kernelspec": {
   "display_name": "Python 3",
   "language": "python",
   "name": "python3"
  },
  "language_info": {
   "codemirror_mode": {
    "name": "ipython",
    "version": 3
   },
   "file_extension": ".py",
   "mimetype": "text/x-python",
   "name": "python",
   "nbconvert_exporter": "python",
   "pygments_lexer": "ipython3",
   "version": "3.6.5"
  }
 },
 "nbformat": 4,
 "nbformat_minor": 2
}
