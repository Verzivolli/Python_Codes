{
 "cells": [
  {
   "cell_type": "code",
   "execution_count": 1,
   "metadata": {},
   "outputs": [],
   "source": [
    "# Plynomial regresion\n",
    "# y = b0 +b1*x1 + b2*x2^2 +....\n",
    "# Import\n",
    "import numpy as np\n",
    "import matplotlib.pyplot as plt\n",
    "import pandas as pd\n",
    "import os\n",
    "# must check how to make bidirectional Elimination in python"
   ]
  },
  {
   "cell_type": "code",
   "execution_count": 2,
   "metadata": {},
   "outputs": [
    {
     "data": {
      "text/html": [
       "<div>\n",
       "<style scoped>\n",
       "    .dataframe tbody tr th:only-of-type {\n",
       "        vertical-align: middle;\n",
       "    }\n",
       "\n",
       "    .dataframe tbody tr th {\n",
       "        vertical-align: top;\n",
       "    }\n",
       "\n",
       "    .dataframe thead th {\n",
       "        text-align: right;\n",
       "    }\n",
       "</style>\n",
       "<table border=\"1\" class=\"dataframe\">\n",
       "  <thead>\n",
       "    <tr style=\"text-align: right;\">\n",
       "      <th></th>\n",
       "      <th>Position</th>\n",
       "      <th>Level</th>\n",
       "      <th>Salary</th>\n",
       "    </tr>\n",
       "  </thead>\n",
       "  <tbody>\n",
       "    <tr>\n",
       "      <th>0</th>\n",
       "      <td>Business Analyst</td>\n",
       "      <td>1</td>\n",
       "      <td>45000</td>\n",
       "    </tr>\n",
       "    <tr>\n",
       "      <th>1</th>\n",
       "      <td>Junior Consultant</td>\n",
       "      <td>2</td>\n",
       "      <td>50000</td>\n",
       "    </tr>\n",
       "    <tr>\n",
       "      <th>2</th>\n",
       "      <td>Senior Consultant</td>\n",
       "      <td>3</td>\n",
       "      <td>60000</td>\n",
       "    </tr>\n",
       "    <tr>\n",
       "      <th>3</th>\n",
       "      <td>Manager</td>\n",
       "      <td>4</td>\n",
       "      <td>80000</td>\n",
       "    </tr>\n",
       "    <tr>\n",
       "      <th>4</th>\n",
       "      <td>Country Manager</td>\n",
       "      <td>5</td>\n",
       "      <td>110000</td>\n",
       "    </tr>\n",
       "    <tr>\n",
       "      <th>5</th>\n",
       "      <td>Region Manager</td>\n",
       "      <td>6</td>\n",
       "      <td>150000</td>\n",
       "    </tr>\n",
       "    <tr>\n",
       "      <th>6</th>\n",
       "      <td>Partner</td>\n",
       "      <td>7</td>\n",
       "      <td>200000</td>\n",
       "    </tr>\n",
       "    <tr>\n",
       "      <th>7</th>\n",
       "      <td>Senior Partner</td>\n",
       "      <td>8</td>\n",
       "      <td>300000</td>\n",
       "    </tr>\n",
       "    <tr>\n",
       "      <th>8</th>\n",
       "      <td>C-level</td>\n",
       "      <td>9</td>\n",
       "      <td>500000</td>\n",
       "    </tr>\n",
       "    <tr>\n",
       "      <th>9</th>\n",
       "      <td>CEO</td>\n",
       "      <td>10</td>\n",
       "      <td>1000000</td>\n",
       "    </tr>\n",
       "  </tbody>\n",
       "</table>\n",
       "</div>"
      ],
      "text/plain": [
       "            Position  Level   Salary\n",
       "0   Business Analyst      1    45000\n",
       "1  Junior Consultant      2    50000\n",
       "2  Senior Consultant      3    60000\n",
       "3            Manager      4    80000\n",
       "4    Country Manager      5   110000\n",
       "5     Region Manager      6   150000\n",
       "6            Partner      7   200000\n",
       "7     Senior Partner      8   300000\n",
       "8            C-level      9   500000\n",
       "9                CEO     10  1000000"
      ]
     },
     "execution_count": 2,
     "metadata": {},
     "output_type": "execute_result"
    }
   ],
   "source": [
    "# D:\\BoxPurrelySync\\Notes\\Machine Learning UDEMY\\Machine Learning A-Z Template Folder\\Part 2 - Regression\\Section 6 - Polynomial Regression\n",
    "# Importing the dataset\n",
    "ws = r\"Data\\Polynomial Regression\"\n",
    "data_file = os.path.join(os.path.join(ws,\"Data\"),'Position_Salaries.csv')\n",
    "dataset = pd.read_csv(data_file)\n",
    "pd.DataFrame(dataset)"
   ]
  },
  {
   "cell_type": "code",
   "execution_count": 15,
   "metadata": {},
   "outputs": [],
   "source": [
    "# splitting the dataset\n",
    "X = dataset.iloc[:, 1:2].values\n",
    "y = dataset.iloc[:, 2].values\n",
    "# y array([  45000,   50000,   60000,   80000,  110000,  150000,  200000, 300000,  500000, 1000000], dtype=int64)\n",
    "# X array([[ 1], [ 2],[ 3],[ 4],[ 5],[ 6],[ 7],[ 8],[ 9],[10]], dtype=int64)"
   ]
  },
  {
   "cell_type": "code",
   "execution_count": 48,
   "metadata": {},
   "outputs": [],
   "source": [
    "# creating a simple linear regression to compare\n",
    "from sklearn.linear_model import LinearRegression\n",
    "lin_reg = LinearRegression()\n",
    "lin_reg.fit(X, y)\n",
    "\n",
    "# No need for feature scaling on polynomial regression ?\n",
    "from sklearn.preprocessing import PolynomialFeatures\n",
    "poly_reg = PolynomialFeatures(degree = 2)\n",
    "x_poly = poly_reg.fit_transform(X)\n",
    "# x_poly array([[  1.,   1.,   1.], [  1.,   2.,   4.], [  1.,   3.,   9.],[  1.,   4.,  16.],[  1.,   5.,  25.],   [  1.,   6.,  36.],       [  1.,   7.,  49.],       [  1.,   8.,  64.],       [  1.,   9.,  81.],       [  1.,  10., 100.]])\n",
    "# x_poly is combined from ones col, given col, and square of given col.\n",
    "# now can create a new linear regression of the x_poly matrix"
   ]
  },
  {
   "cell_type": "code",
   "execution_count": 49,
   "metadata": {},
   "outputs": [
    {
     "data": {
      "text/plain": [
       "LinearRegression(copy_X=True, fit_intercept=True, n_jobs=1, normalize=False)"
      ]
     },
     "execution_count": 49,
     "metadata": {},
     "output_type": "execute_result"
    }
   ],
   "source": [
    "lin_reg_2 = LinearRegression()\n",
    "lin_reg_2.fit(x_poly, y)"
   ]
  },
  {
   "cell_type": "code",
   "execution_count": 50,
   "metadata": {},
   "outputs": [
    {
     "data": {
      "image/png": "[encoded data removed]",
      "text/plain": [
       "<Figure size 432x288 with 1 Axes>"
      ]
     },
     "metadata": {},
     "output_type": "display_data"
    }
   ],
   "source": [
    "# Visual display the linar regression result and polynomial regression result\n",
    "plt.scatter(X, y, color=\"green\")\n",
    "plt.plot(X, lin_reg.predict(X), color = \"red\")\n",
    "# plt.plot(X, lin_reg_2.predict(X), color = \"blue\") # must pas polynomial terms\n",
    "# must pass x_poly\n",
    "# good coding to pass the trasform so it can be able to predict for any given matrix and show matrix\n",
    "plt.plot(X, lin_reg_2.predict(poly_reg.fit_transform(X)), color = \"blue\")\n",
    "plt.title(\"Linear and polynomial regression comparison\")\n",
    "plt.xlabel(\"Position label\")\n",
    "plt.ylabel(\"Salary\")\n",
    "plt.show()\n"
   ]
  },
  {
   "cell_type": "code",
   "execution_count": 51,
   "metadata": {},
   "outputs": [
    {
     "data": {
      "text/plain": [
       "array([189498.10606061])"
      ]
     },
     "execution_count": 51,
     "metadata": {},
     "output_type": "execute_result"
    }
   ],
   "source": [
    "lin_reg_2.predict(poly_reg.fit_transform(6.5))"
   ]
  },
  {
   "cell_type": "code",
   "execution_count": 55,
   "metadata": {},
   "outputs": [],
   "source": [
    "# 3rd degree polynomial regression\n",
    "from sklearn.preprocessing import PolynomialFeatures\n",
    "poly_reg_deg3 = PolynomialFeatures(degree = 3)\n",
    "x_poly_deg3 = poly_reg_deg3.fit_transform(X)\n"
   ]
  },
  {
   "cell_type": "code",
   "execution_count": 56,
   "metadata": {},
   "outputs": [
    {
     "data": {
      "text/plain": [
       "LinearRegression(copy_X=True, fit_intercept=True, n_jobs=1, normalize=False)"
      ]
     },
     "execution_count": 56,
     "metadata": {},
     "output_type": "execute_result"
    }
   ],
   "source": [
    "# x_poly array([[  1.,   1.,   1.], [  1.,   2.,   4.], [  1.,   3.,   9.],[  1.,   4.,  16.],[  1.,   5.,  25.],   [  1.,   6.,  36.],       [  1.,   7.,  49.],       [  1.,   8.,  64.],       [  1.,   9.,  81.],       [  1.,  10., 100.]])\n",
    "# x_poly is combined from ones col, given col, and square of given col.\n",
    "# now can create a new linear regression of the x_poly matrix\n",
    "lin_reg_3 = LinearRegression()\n",
    "lin_reg_3.fit(x_poly_deg3, y)\n",
    "# must see to combine this with bidirectional regression prediction"
   ]
  },
  {
   "cell_type": "code",
   "execution_count": 57,
   "metadata": {},
   "outputs": [
    {
     "data": {
      "image/png": "[encoded data removed]",
      "text/plain": [
       "<Figure size 432x288 with 1 Axes>"
      ]
     },
     "metadata": {},
     "output_type": "display_data"
    }
   ],
   "source": [
    "# Visual display the linar regression result and polynomial regression result\n",
    "plt.scatter(X, y, color=\"green\")\n",
    "plt.plot(X, lin_reg.predict(X), color = \"red\")\n",
    "# plt.plot(X, lin_reg_2.predict(X), color = \"blue\") # must pas polynomial terms\n",
    "# must pass x_poly\n",
    "# good coding to pass the trasform so it can be able to predict for any given matrix and show matrix\n",
    "plt.plot(X, lin_reg_2.predict(poly_reg.fit_transform(X)), color = \"blue\")\n",
    "plt.plot(X, lin_reg_3.predict(poly_reg_deg3.fit_transform(X)), color = \"green\")\n",
    "plt.title(\"Linear and polynomial regression comparison\")\n",
    "plt.xlabel(\"Position label\")\n",
    "plt.ylabel(\"Salary\")\n",
    "plt.show()"
   ]
  },
  {
   "cell_type": "code",
   "execution_count": 61,
   "metadata": {},
   "outputs": [
    {
     "data": {
      "image/png": "[encoded data removed]",
      "text/plain": [
       "<Figure size 432x288 with 1 Axes>"
      ]
     },
     "metadata": {},
     "output_type": "display_data"
    }
   ],
   "source": [
    "# Visual display the linar regression result and polynomial regression result\n",
    "plt.scatter(X, y, color=\"green\")\n",
    "# plt.plot(X, lin_reg.predict(X), color = \"red\")\n",
    "# plt.plot(X, lin_reg_2.predict(X), color = \"blue\") # must pas polynomial terms\n",
    "# must pass x_poly\n",
    "# good coding to pass the trasform so it can be able to predict for any given matrix and show matrix\n",
    "# plt.plot(X, lin_reg_2.predict(poly_reg.fit_transform(X)), color = \"blue\")\n",
    "# x_grid is amore dense x array to smother the 3rd degree plotted line\n",
    "x_grid = np.arange(min(X), max(X), 0.1)\n",
    "x_grid = x_grid.reshape(len(x_grid), 1)\n",
    "plt.plot(x_grid, lin_reg_3.predict(poly_reg_deg3.fit_transform(x_grid)), color = \"blue\")\n",
    "plt.title(\"Linear and polynomial regression comparison\")\n",
    "plt.xlabel(\"Position label\")\n",
    "plt.ylabel(\"Salary\")\n",
    "plt.show()"
   ]
  },
  {
   "cell_type": "code",
   "execution_count": 64,
   "metadata": {},
   "outputs": [],
   "source": [
    "# predict a new result\n",
    "def predict(position, method):\n",
    "    if int(method) == 1 or str(method).lower() == \"linear\":\n",
    "        return lin_reg.predict(position)\n",
    "    elif int(method) == 2 or str(method).lower() == \"quadratic\":\n",
    "        return lin_reg_2.predict(poly_reg.fit_transform(position))\n",
    "    elif int(method) == 3 or str(method).lower() == \"cubic\":\n",
    "        return lin_reg_3.predict(poly_reg_deg3.fit_transform(position))\n",
    "    else:\n",
    "        raise Exception('No valid method given')\n",
    "    "
   ]
  },
  {
   "cell_type": "code",
   "execution_count": 69,
   "metadata": {},
   "outputs": [
    {
     "data": {
      "text/plain": [
       "array([330378.78787879])"
      ]
     },
     "execution_count": 69,
     "metadata": {},
     "output_type": "execute_result"
    }
   ],
   "source": [
    "predict(6.5,1)"
   ]
  },
  {
   "cell_type": "code",
   "execution_count": null,
   "metadata": {},
   "outputs": [],
   "source": []
  }
 ],
 "metadata": {
  "kernelspec": {
   "display_name": "Python 3",
   "language": "python",
   "name": "python3"
  },
  "language_info": {
   "codemirror_mode": {
    "name": "ipython",
    "version": 3
   },
   "file_extension": ".py",
   "mimetype": "text/x-python",
   "name": "python",
   "nbconvert_exporter": "python",
   "pygments_lexer": "ipython3",
   "version": "3.6.5"
  }
 },
 "nbformat": 4,
 "nbformat_minor": 2
}
