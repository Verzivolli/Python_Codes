{
 "cells": [
  {
   "cell_type": "code",
   "execution_count": 1,
   "metadata": {},
   "outputs": [],
   "source": [
    "# Importing the libraries\n",
    "import numpy as np\n",
    "import matplotlib.pyplot as plt\n",
    "import pandas as pd\n",
    "import os"
   ]
  },
  {
   "cell_type": "code",
   "execution_count": 3,
   "metadata": {},
   "outputs": [
    {
     "data": {
      "text/html": [
       "<div>\n",
       "<style scoped>\n",
       "    .dataframe tbody tr th:only-of-type {\n",
       "        vertical-align: middle;\n",
       "    }\n",
       "\n",
       "    .dataframe tbody tr th {\n",
       "        vertical-align: top;\n",
       "    }\n",
       "\n",
       "    .dataframe thead th {\n",
       "        text-align: right;\n",
       "    }\n",
       "</style>\n",
       "<table border=\"1\" class=\"dataframe\">\n",
       "  <thead>\n",
       "    <tr style=\"text-align: right;\">\n",
       "      <th></th>\n",
       "      <th>Position</th>\n",
       "      <th>Level</th>\n",
       "      <th>Salary</th>\n",
       "    </tr>\n",
       "  </thead>\n",
       "  <tbody>\n",
       "    <tr>\n",
       "      <th>0</th>\n",
       "      <td>Business Analyst</td>\n",
       "      <td>1</td>\n",
       "      <td>45000</td>\n",
       "    </tr>\n",
       "    <tr>\n",
       "      <th>1</th>\n",
       "      <td>Junior Consultant</td>\n",
       "      <td>2</td>\n",
       "      <td>50000</td>\n",
       "    </tr>\n",
       "    <tr>\n",
       "      <th>2</th>\n",
       "      <td>Senior Consultant</td>\n",
       "      <td>3</td>\n",
       "      <td>60000</td>\n",
       "    </tr>\n",
       "    <tr>\n",
       "      <th>3</th>\n",
       "      <td>Manager</td>\n",
       "      <td>4</td>\n",
       "      <td>80000</td>\n",
       "    </tr>\n",
       "    <tr>\n",
       "      <th>4</th>\n",
       "      <td>Country Manager</td>\n",
       "      <td>5</td>\n",
       "      <td>110000</td>\n",
       "    </tr>\n",
       "    <tr>\n",
       "      <th>5</th>\n",
       "      <td>Region Manager</td>\n",
       "      <td>6</td>\n",
       "      <td>150000</td>\n",
       "    </tr>\n",
       "    <tr>\n",
       "      <th>6</th>\n",
       "      <td>Partner</td>\n",
       "      <td>7</td>\n",
       "      <td>200000</td>\n",
       "    </tr>\n",
       "    <tr>\n",
       "      <th>7</th>\n",
       "      <td>Senior Partner</td>\n",
       "      <td>8</td>\n",
       "      <td>300000</td>\n",
       "    </tr>\n",
       "    <tr>\n",
       "      <th>8</th>\n",
       "      <td>C-level</td>\n",
       "      <td>9</td>\n",
       "      <td>500000</td>\n",
       "    </tr>\n",
       "    <tr>\n",
       "      <th>9</th>\n",
       "      <td>CEO</td>\n",
       "      <td>10</td>\n",
       "      <td>1000000</td>\n",
       "    </tr>\n",
       "  </tbody>\n",
       "</table>\n",
       "</div>"
      ],
      "text/plain": [
       "            Position  Level   Salary\n",
       "0   Business Analyst      1    45000\n",
       "1  Junior Consultant      2    50000\n",
       "2  Senior Consultant      3    60000\n",
       "3            Manager      4    80000\n",
       "4    Country Manager      5   110000\n",
       "5     Region Manager      6   150000\n",
       "6            Partner      7   200000\n",
       "7     Senior Partner      8   300000\n",
       "8            C-level      9   500000\n",
       "9                CEO     10  1000000"
      ]
     },
     "execution_count": 3,
     "metadata": {},
     "output_type": "execute_result"
    }
   ],
   "source": [
    "# Importing the dataset\n",
    "# must make UTS/Laptop varibales\n",
    "ws = r\"Data\\Support Vector Regression (SVR)\"\n",
    "data_file = os.path.join(os.path.join(ws,\"data\"),'Position_Salaries.csv')\n",
    "dataset = pd.read_csv(data_file)\n",
    "dataset"
   ]
  },
  {
   "cell_type": "code",
   "execution_count": 39,
   "metadata": {},
   "outputs": [],
   "source": [
    "# splitting the dataset\n",
    "X = dataset.iloc[:, 1:2].values\n",
    "y = dataset.iloc[:, 2].values\n",
    "# y\n",
    "# array([  45000,   50000,   60000,   80000,  110000,  150000,  200000,\n",
    "#         300000,  500000, 1000000], dtype=int64)"
   ]
  },
  {
   "cell_type": "code",
   "execution_count": 6,
   "metadata": {
    "collapsed": true
   },
   "outputs": [
    {
     "data": {
      "text/plain": [
       "'\\n# splitting the dataset into the Training Set and the Test set\\nfrom sklearn.model_selection import train_test_split\\nX_train, X_test, Y_train, Y_test = train_test_split(X, y, test_size = 0.25, random_state = 42)\\n## must check what random_state does\\n# X_train\\n# X_test\\n# Y_train\\n# Y_test\\n\\n\\n# Feature scaling (scale numbers to be represented from range numbers)\\nfrom sklearn.preprocessing import StandardScaler\\nsc_x = StandardScaler()\\nX_train = sc_x.fit_transform(X_train)\\nX_test = sc_x.transform(X_test)\\nX_train\\n# X_test\\n\\n\\n# Visualising the Training set Result\\nplt.scatter(X_train, Y_train, color = \"red\")\\n# plt.scatter(X_test, Y_test, color = \"black\")\\nplt.plot(X_train, regressor.predict(X_train), color = \"blue\")\\nplt.title(\"Salary vs experience (Training set)\")\\nplt.xlabel(\"Years of experience\")\\nplt.ylabel(\"Salary\")\\nplt.show()\\n'"
      ]
     },
     "execution_count": 6,
     "metadata": {},
     "output_type": "execute_result"
    }
   ],
   "source": [
    "'''\n",
    "# splitting the dataset into the Training Set and the Test set\n",
    "from sklearn.model_selection import train_test_split\n",
    "X_train, X_test, Y_train, Y_test = train_test_split(X, y, test_size = 0.25, random_state = 42)\n",
    "## must check what random_state does\n",
    "# X_train\n",
    "# X_test\n",
    "# Y_train\n",
    "# Y_test\n",
    "\n",
    "\n",
    "# Feature scaling (scale numbers to be represented from range numbers)\n",
    "from sklearn.preprocessing import StandardScaler\n",
    "sc_x = StandardScaler()\n",
    "X_train = sc_x.fit_transform(X_train)\n",
    "X_test = sc_x.transform(X_test)\n",
    "X_train\n",
    "# X_test\n",
    "\n",
    "\n",
    "# Visualising the Training set Result\n",
    "plt.scatter(X_train, Y_train, color = \"red\")\n",
    "# plt.scatter(X_test, Y_test, color = \"black\")\n",
    "plt.plot(X_train, regressor.predict(X_train), color = \"blue\")\n",
    "plt.title(\"Salary vs experience (Training set)\")\n",
    "plt.xlabel(\"Years of experience\")\n",
    "plt.ylabel(\"Salary\")\n",
    "plt.show()\n",
    "'''\n"
   ]
  },
  {
   "cell_type": "code",
   "execution_count": 12,
   "metadata": {},
   "outputs": [
    {
     "data": {
      "text/plain": [
       "array([130001.55760156])"
      ]
     },
     "execution_count": 12,
     "metadata": {},
     "output_type": "execute_result"
    }
   ],
   "source": [
    "# fitting SVR to the dataset\n",
    "from sklearn.svm import SVR\n",
    "# help(SVR)\n",
    "svr_regressor = SVR(kernel = \"rbf\")\n",
    "# not linear problem (we know both) (poly and rbf(gaussian) kernel will work)\n",
    "svr_regressor.fit(X,y) # fitting svr regressor gaussian kernel\n",
    "svr_regressor.predict(6.5)"
   ]
  },
  {
   "cell_type": "code",
   "execution_count": 13,
   "metadata": {},
   "outputs": [
    {
     "data": {
      "image/png": "[encoded data removed]",
      "text/plain": [
       "<Figure size 432x288 with 1 Axes>"
      ]
     },
     "metadata": {},
     "output_type": "display_data"
    }
   ],
   "source": [
    "# Visualising the Training set Result\n",
    "plt.scatter(X, y, color = \"green\")\n",
    "# plt.scatter(X_test, Y_test, color = \"black\")\n",
    "plt.plot(X, svr_regressor.predict(X), color = \"blue\")\n",
    "plt.title(\"Truth or Bluff (SVR)\")\n",
    "plt.xlabel(\"Position level\")\n",
    "plt.ylabel(\"Salary\")\n",
    "plt.show()"
   ]
  },
  {
   "cell_type": "code",
   "execution_count": 71,
   "metadata": {},
   "outputs": [
    {
     "name": "stderr",
     "output_type": "stream",
     "text": [
      "c:\\users\\c.r.c\\appdata\\local\\programs\\python\\python36-32\\lib\\site-packages\\sklearn\\utils\\validation.py:475: DataConversionWarning: Data with input dtype int64 was converted to float64 by StandardScaler.\n",
      "  warnings.warn(msg, DataConversionWarning)\n"
     ]
    },
    {
     "data": {
      "text/plain": [
       "array([-0.72004253])"
      ]
     },
     "execution_count": 71,
     "metadata": {},
     "output_type": "execute_result"
    }
   ],
   "source": [
    "# svr_regressor.predict(7.5) # array([130001.76839523])\n",
    "# svr_regressor.predict(6.5) # array([130001.55760156])\n",
    "# SVR class model as a less common model does not auto apply feature scaling\n",
    "# at SVr models we must apply feature scaling\n",
    "# must create two objects of scaling coz every object needs it trasform matrix\n",
    "from sklearn.preprocessing import StandardScaler\n",
    "sc_x = StandardScaler()\n",
    "sc_y = StandardScaler()\n",
    "x_sc = sc_x.fit_transform(X)\n",
    "Y = [y]\n",
    "y_sc = sc_y.fit_transform(y[:, np.newaxis])\n",
    "y_sc[0]\n",
    "# x_sc\n",
    "# Must resee\n",
    "# errors:\n",
    "#       https://stackoverflow.com/questions/31306390/sklearn-classifier-get-valueerror-bad-input-shape\n",
    "#       https://github.com/bikz05/object-detector/issues/21\n",
    "#       https://stackoverflow.com/questions/46555820/sklearn-standardscaler-returns-all-zeros"
   ]
  },
  {
   "cell_type": "code",
   "execution_count": 72,
   "metadata": {},
   "outputs": [
    {
     "name": "stderr",
     "output_type": "stream",
     "text": [
      "c:\\users\\c.r.c\\appdata\\local\\programs\\python\\python36-32\\lib\\site-packages\\sklearn\\utils\\validation.py:578: DataConversionWarning: A column-vector y was passed when a 1d array was expected. Please change the shape of y to (n_samples, ), for example using ravel().\n",
      "  y = column_or_1d(y, warn=True)\n"
     ]
    },
    {
     "data": {
      "text/plain": [
       "SVR(C=1.0, cache_size=200, coef0=0.0, degree=3, epsilon=0.1, gamma='auto',\n",
       "  kernel='rbf', max_iter=-1, shrinking=True, tol=0.001, verbose=False)"
      ]
     },
     "execution_count": 72,
     "metadata": {},
     "output_type": "execute_result"
    }
   ],
   "source": [
    "from sklearn.svm import SVR\n",
    "# help(SVR)\n",
    "svr_regressor_scaled = SVR(kernel = \"rbf\")\n",
    "# not linear problem (we know both) (poly and rbf(gaussian) kernel will work)\n",
    "svr_regressor_scaled.fit(x_sc,y_sc) # fitting svr regressor gaussian kernel\n"
   ]
  },
  {
   "cell_type": "code",
   "execution_count": 73,
   "metadata": {},
   "outputs": [
    {
     "data": {
      "image/png": "[encoded data removed]",
      "text/plain": [
       "<Figure size 432x288 with 1 Axes>"
      ]
     },
     "metadata": {},
     "output_type": "display_data"
    }
   ],
   "source": [
    "# Visualising the Training set Result\n",
    "plt.scatter(x_sc, y_sc, color = \"green\")\n",
    "# plt.scatter(X_test, Y_test, color = \"black\")\n",
    "plt.plot(x_sc, svr_regressor_scaled.predict(x_sc), color = \"blue\")\n",
    "plt.title(\"Truth or Bluff (SVR)\")\n",
    "plt.xlabel(\"Position level\")\n",
    "plt.ylabel(\"Salary\")\n",
    "plt.show()"
   ]
  },
  {
   "cell_type": "code",
   "execution_count": 74,
   "metadata": {},
   "outputs": [
    {
     "data": {
      "text/plain": [
       "array([170370.0204065])"
      ]
     },
     "execution_count": 74,
     "metadata": {},
     "output_type": "execute_result"
    }
   ],
   "source": [
    "sc_y.inverse_transform(svr_regressor_scaled.predict(sc_x.transform(np.array([[6.5]]))))\n",
    "# y_sc[0]"
   ]
  },
  {
   "cell_type": "code",
   "execution_count": null,
   "metadata": {},
   "outputs": [],
   "source": [
    "'''\n",
    "# help(SVR)\n",
    " |  Parameters\n",
    " |  ----------\n",
    " |  C : float, optional (default=1.0)\n",
    " |      Penalty parameter C of the error term.\n",
    " |  \n",
    " |  epsilon : float, optional (default=0.1)\n",
    " |       Epsilon in the epsilon-SVR model. It specifies the epsilon-tube\n",
    " |       within which no penalty is associated in the training loss function\n",
    " |       with points predicted within a distance epsilon from the actual\n",
    " |       value.\n",
    " |  \n",
    " |  kernel : string, optional (default='rbf')\n",
    " |       Specifies the kernel type to be used in the algorithm.\n",
    " |       It must be one of 'linear', 'poly', 'rbf', 'sigmoid', 'precomputed' or\n",
    " |       a callable.\n",
    " |       If none is given, 'rbf' will be used. If a callable is given it is\n",
    " |       used to precompute the kernel matrix.\n",
    " |  \n",
    " |  degree : int, optional (default=3)\n",
    " |      Degree of the polynomial kernel function ('poly').\n",
    " |      Ignored by all other kernels.\n",
    " |  \n",
    " |  gamma : float, optional (default='auto')\n",
    " |      Kernel coefficient for 'rbf', 'poly' and 'sigmoid'.\n",
    " |      If gamma is 'auto' then 1/n_features will be used instead.\n",
    " |  \n",
    " |  coef0 : float, optional (default=0.0)\n",
    " |      Independent term in kernel function.\n",
    " |      It is only significant in 'poly' and 'sigmoid'.\n",
    " |  \n",
    " |  shrinking : boolean, optional (default=True)\n",
    " |      Whether to use the shrinking heuristic.\n",
    " |  \n",
    " |  tol : float, optional (default=1e-3)\n",
    " |      Tolerance for stopping criterion.\n",
    " |  \n",
    " |  cache_size : float, optional\n",
    " |      Specify the size of the kernel cache (in MB).\n",
    " |  \n",
    " |  verbose : bool, default: False\n",
    " |      Enable verbose output. Note that this setting takes advantage of a\n",
    " |      per-process runtime setting in libsvm that, if enabled, may not work\n",
    " |      properly in a multithreaded context.\n",
    " |  \n",
    " |  max_iter : int, optional (default=-1)\n",
    " |      Hard limit on iterations within solver, or -1 for no limit.\n",
    " |  \n",
    " |  Attributes\n",
    " |  ----------\n",
    " |  support_ : array-like, shape = [n_SV]\n",
    " |      Indices of support vectors.\n",
    " |  \n",
    " |  support_vectors_ : array-like, shape = [nSV, n_features]\n",
    " |      Support vectors.\n",
    " |  \n",
    " |  dual_coef_ : array, shape = [1, n_SV]\n",
    " |      Coefficients of the support vector in the decision function.\n",
    " |  \n",
    " |  coef_ : array, shape = [1, n_features]\n",
    " |      Weights assigned to the features (coefficients in the primal\n",
    " |      problem). This is only available in the case of a linear kernel.\n",
    " |  \n",
    " |      `coef_` is readonly property derived from `dual_coef_` and\n",
    " |      `support_vectors_`.\n",
    " |  \n",
    " |  intercept_ : array, shape = [1]\n",
    " |      Constants in decision function.\n",
    " |  \n",
    " |  sample_weight : array-like, shape = [n_samples]\n",
    " |          Individual weights for each sample\n",
    "\n",
    "'''\n"
   ]
  }
 ],
 "metadata": {
  "kernelspec": {
   "display_name": "Python 3",
   "language": "python",
   "name": "python3"
  },
  "language_info": {
   "codemirror_mode": {
    "name": "ipython",
    "version": 3
   },
   "file_extension": ".py",
   "mimetype": "text/x-python",
   "name": "python",
   "nbconvert_exporter": "python",
   "pygments_lexer": "ipython3",
   "version": "3.6.5"
  }
 },
 "nbformat": 4,
 "nbformat_minor": 2
}
