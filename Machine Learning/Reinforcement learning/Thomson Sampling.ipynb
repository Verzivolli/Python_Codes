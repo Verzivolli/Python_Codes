{
 "cells": [
  {
   "cell_type": "code",
   "execution_count": 1,
   "metadata": {},
   "outputs": [],
   "source": [
    "# Thomsong sampling creates a distribution of expected return value for each ad\n",
    "# UBC is deterministic algorithm thomson is propabilstic\n",
    "# pulls a value from constructed distributions\n",
    "# Consider pulled values as hypothetical return value\n",
    "# get return (real) for selected ad\n",
    "# redefine return distributions\n",
    "\n",
    "### Comparison betwen thomson samplig and UCB\n",
    "# UCB is deterministic\n",
    "# there are many algorithmics online for UCB\n",
    "# thomson sampling is propabilistic\n",
    "# UCB requires update every round\n",
    "# cannot proceed on next round without getting result and updating UCB\n",
    "# Thomsong sampling can accept delays on updating return\n",
    "# Thomsong sampling algorithm has better empirical evidence\n",
    "\n",
    "##############################\n",
    "# Importing Libraries\n",
    "import numpy as np\n",
    "import matplotlib.pyplot as plt\n",
    "import pandas as pd\n",
    "import os\n",
    "import math"
   ]
  },
  {
   "cell_type": "code",
   "execution_count": 2,
   "metadata": {},
   "outputs": [],
   "source": [
    "# Importing the dataset\n",
    "# must make UTS/Laptop varibales\n",
    "ws_sub = r\"Thompson Sampling\"\n",
    "ws = r\"Data\"\n",
    "data_file = \"Ads_CTR_Optimisation.csv\"\n",
    "\n",
    "data_file_path = os.path.join(os.path.join(os.path.join(ws, ws_sub), \"data\"),data_file)\n",
    "\n",
    "dataset = pd.read_csv(data_file_path)\n",
    "# dataset\n",
    "\n",
    "# Dataset in this occasion is just to simulate the results\n",
    "# first row shows which ads will first user click if shown to him\n",
    "# we will have 10k rounds to obtain data"
   ]
  },
  {
   "cell_type": "code",
   "execution_count": 3,
   "metadata": {},
   "outputs": [
    {
     "data": {
      "image/png": "[encoded data removed]",
      "text/plain": [
       "<Figure size 432x288 with 1 Axes>"
      ]
     },
     "metadata": {},
     "output_type": "display_data"
    }
   ],
   "source": [
    "# Results doing random pick ads\n",
    "import random\n",
    "N = 10000\n",
    "d = 10\n",
    "ads_selected = []\n",
    "total_reward = 0\n",
    "for n in range(0, N):\n",
    "    ad = random.randrange(d)\n",
    "    ads_selected.append(ad)\n",
    "    reward = dataset.values[n, ad]\n",
    "    total_reward += reward\n",
    "# Visual display random pick\n",
    "plt.hist(ads_selected)\n",
    "plt.title('Histogram of ads selections')\n",
    "plt.xlabel('Ads')\n",
    "plt.ylabel('Number of times each ad was selected')\n",
    "plt.show()"
   ]
  },
  {
   "cell_type": "code",
   "execution_count": 6,
   "metadata": {},
   "outputs": [],
   "source": [
    "# thomson Sampling algorithm\n",
    "# Step1: at each round n, we consider two numbers for each ad i\n",
    "#  N1i(n) the number of times the ad i got reward 1 up to round n\n",
    "#  N0i(n) the number of times the ad i got reward 0 up to round n\n",
    "# Step2: For each ad i, we take a random draw from the distribution:\n",
    "#  Fi(n) = B(N1i(n) + 1, N0i(n) + 1)\n",
    "#   for fi i search bayesr rule aproach Fi by posterior distribution\n",
    "# Step3:\n",
    "#  We select the ad with the higherst Fi(n)\n",
    "\n",
    "\n",
    "\n",
    "N = 10000\n",
    "d = 10\n",
    "# Declaring the number of selection and number of rewards\n",
    "numbers_of_selections = [0] * d\n",
    "number_of_rewards_1 = [0] * d\n",
    "number_of_rewards_0 = [0] * d\n",
    "ads_selected = []\n",
    "# loop for N simulations\n",
    "for n in range(0, N):\n",
    "    ad = 0\n",
    "    max_random_draw = 0\n",
    "    # calulating step 2 for each ad\n",
    "    for i in range(0, d):\n",
    "        random_beta = random.betavariate(number_of_rewards_1[i] + 1,number_of_rewards_0[i] + 1)# beta is distribution name\n",
    "        # random.betavar # from random library\n",
    "        if random_beta > max_random_draw:\n",
    "            max_random_draw = random_beta\n",
    "            ad = i\n",
    "    ads_selected.append(ad)\n",
    "    numbers_of_selections[ad] += 1\n",
    "    reward = dataset.values[n, ad]\n",
    "    if reward == 1:\n",
    "        number_of_rewards_1[ad] += reward\n",
    "    else:\n",
    "        number_of_rewards_0[ad] += 1\n",
    "    \n"
   ]
  },
  {
   "cell_type": "code",
   "execution_count": 7,
   "metadata": {},
   "outputs": [
    {
     "data": {
      "text/plain": [
       "2619"
      ]
     },
     "execution_count": 7,
     "metadata": {},
     "output_type": "execute_result"
    }
   ],
   "source": [
    "# sum(number_of_rewards_1) # =? 2619\n",
    "\n",
    "# UCB\n",
    "# sum(sums_of_rewards) =? 2178 # Total reward"
   ]
  },
  {
   "cell_type": "code",
   "execution_count": 8,
   "metadata": {},
   "outputs": [
    {
     "data": {
      "image/png": "[encoded data removed]",
      "text/plain": [
       "<Figure size 432x288 with 1 Axes>"
      ]
     },
     "metadata": {},
     "output_type": "display_data"
    }
   ],
   "source": [
    "# Visual display random pick\n",
    "plt.hist(ads_selected)\n",
    "plt.title('Histogram of ads selections')\n",
    "plt.xlabel('Ads')\n",
    "plt.ylabel('Number of times each ad was selected')\n",
    "plt.show()"
   ]
  },
  {
   "cell_type": "code",
   "execution_count": null,
   "metadata": {},
   "outputs": [],
   "source": []
  }
 ],
 "metadata": {
  "kernelspec": {
   "display_name": "Python 3",
   "language": "python",
   "name": "python3"
  },
  "language_info": {
   "codemirror_mode": {
    "name": "ipython",
    "version": 3
   },
   "file_extension": ".py",
   "mimetype": "text/x-python",
   "name": "python",
   "nbconvert_exporter": "python",
   "pygments_lexer": "ipython3",
   "version": "3.6.5"
  }
 },
 "nbformat": 4,
 "nbformat_minor": 2
}
