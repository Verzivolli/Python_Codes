{
 "cells": [
  {
   "cell_type": "code",
   "execution_count": 1,
   "metadata": {},
   "outputs": [],
   "source": [
    "# Mulri-Armed Bandir Problem\n",
    "# Must explore all chances and still must spend the minimum exploring\n",
    "# Find out which ad works the best\n",
    "\n",
    "# Upper Confidence bound Intuition\n",
    "# we have d arms. E.g. arms are ads that are displayed to users\n",
    "# each time a user to a web page containing ad makes a round\n",
    "# at each round n, we chose one ad to display to the user\n",
    "# at each round n, ad i gives reward r(i)E{0,1}\n",
    "# r(i) = 1 if user click,  if user dont click\n",
    "# our goal is to maximize the total reward we get over many ads\n",
    "\n",
    "# Transform distributions as horizontal lines\n",
    "# The algorithm assumes distribution starting points\n",
    "# We will try at least one time each machine\n",
    "# we place confidence bands at maximum band initially\n",
    "# we pick the machine with the highest confidence bound\n",
    "# we make a round on that ad\n",
    "# horizontal line goes down if ad wasnt clicked\n",
    "# Confidence bounding beocmes smaller for event i\n",
    "# \n",
    "\n",
    "##############################\n",
    "# Importing Libraries\n",
    "import numpy as np\n",
    "import matplotlib.pyplot as plt\n",
    "import pandas as pd\n",
    "import os"
   ]
  },
  {
   "cell_type": "code",
   "execution_count": 2,
   "metadata": {
    "scrolled": true
   },
   "outputs": [],
   "source": [
    "# Importing the dataset\n",
    "# must make UTS/Laptop varibales\n",
    "ws_sub = r\"Upper Confidence Bound (UCB)\"\n",
    "ws = r\"Data\"\n",
    "data_file = \"Ads_CTR_Optimisation.csv\"\n",
    "\n",
    "data_file_path = os.path.join(os.path.join(os.path.join(ws, ws_sub), \"data\"),data_file)\n",
    "\n",
    "dataset = pd.read_csv(data_file_path)\n",
    "# dataset\n",
    "\n",
    "# Dataset in this occasion is just to simulate the results\n",
    "# first row shows which ads will first user click if shown to him\n",
    "# we will have 10k rounds to obtain data"
   ]
  },
  {
   "cell_type": "code",
   "execution_count": 10,
   "metadata": {},
   "outputs": [],
   "source": [
    "# Results doing random pick ads\n",
    "import random\n",
    "N = 10000\n",
    "d = 10\n",
    "ads_selected = []\n",
    "total_reward = 0\n",
    "for n in range(0, N):\n",
    "    ad = random.randrange(d)\n",
    "    ads_selected.append(ad)\n",
    "    reward = dataset.values[n, ad]\n",
    "    total_reward += reward"
   ]
  },
  {
   "cell_type": "code",
   "execution_count": 11,
   "metadata": {},
   "outputs": [
    {
     "data": {
      "image/png": "[encoded data removed]",
      "text/plain": [
       "<Figure size 432x288 with 1 Axes>"
      ]
     },
     "metadata": {},
     "output_type": "display_data"
    }
   ],
   "source": [
    "# Visual display random pick\n",
    "plt.hist(ads_selected)\n",
    "plt.title('Histogram of ads selections')\n",
    "plt.xlabel('Ads')\n",
    "plt.ylabel('Number of times each ad was selected')\n",
    "plt.show()"
   ]
  },
  {
   "cell_type": "code",
   "execution_count": 12,
   "metadata": {},
   "outputs": [
    {
     "data": {
      "text/plain": [
       "1232"
      ]
     },
     "execution_count": 12,
     "metadata": {},
     "output_type": "execute_result"
    }
   ],
   "source": [
    "# total_reward =? 1232\n",
    "# Must redo to histogram the results of true"
   ]
  },
  {
   "cell_type": "code",
   "execution_count": 13,
   "metadata": {},
   "outputs": [],
   "source": [
    "# Implementing UCB\n",
    "#########################\n",
    "# UCB Algorithm\n",
    "# Step1 : At each round n, we consider two numbers for each ad i\n",
    "#  Ni(n) - the number of times the ad i was selected up to round n\n",
    "#  Ri(n) - the sum of rewards of the ad i up to round n\n",
    "# Step2: From these two numbers we compute\n",
    "#  The average reward of ad i up to round n\n",
    "#   ri(n) = Ri(n)/Ni(n)\n",
    "#  The confidence interval ri(n)+-Di(n)\n",
    "#   Di(n)=sqrt((3*log(n))/(3*Ni(n)))\n",
    "# Stem3: We select the ad i that has the maximum UCB\n",
    "#  UCB = ri(n)+ Di(n)\n",
    "\n",
    "import math\n",
    "\n",
    "N = 10000\n",
    "d = 10\n",
    "# Declaring the number of selection and number of rewards\n",
    "numbers_of_selections = [0] * d\n",
    "sums_of_rewards = [0] * d\n",
    "\n",
    "ads_selected = []\n",
    "# loop for N simulations\n",
    "for n in range(0, N):\n",
    "    ad = 0\n",
    "    max_upper_bound = 0\n",
    "    # calulating step 2 for each ad\n",
    "    for i in range(0, d):\n",
    "        if numbers_of_selections[i] > 0:# if ad i was selected at least once\n",
    "            average_reward = sums_of_rewards[i]/numbers_of_selections[i]\n",
    "            # calculating UBC\n",
    "            delta_i = math.sqrt( 3/2 * math.log(n +1)/ numbers_of_selections[i])\n",
    "            upper_bound = average_reward + delta_i\n",
    "        else: # trick to select at least once each\n",
    "            upper_bound = 1e400 # very large number\n",
    "        if upper_bound > max_upper_bound:\n",
    "            max_upper_bound = upper_bound\n",
    "            ad = i\n",
    "    ads_selected.append(ad)\n",
    "    numbers_of_selections[ad] += 1\n",
    "    reward = dataset.values[n, ad]\n",
    "    sums_of_rewards[ad] += reward\n",
    "\n"
   ]
  },
  {
   "cell_type": "code",
   "execution_count": 14,
   "metadata": {},
   "outputs": [
    {
     "data": {
      "text/plain": [
       "2178"
      ]
     },
     "execution_count": 14,
     "metadata": {},
     "output_type": "execute_result"
    }
   ],
   "source": [
    "# sum(sums_of_rewards) =? 2178 # Total reward"
   ]
  },
  {
   "cell_type": "code",
   "execution_count": 15,
   "metadata": {},
   "outputs": [
    {
     "data": {
      "image/png": "[encoded data removed]",
      "text/plain": [
       "<Figure size 432x288 with 1 Axes>"
      ]
     },
     "metadata": {},
     "output_type": "display_data"
    }
   ],
   "source": [
    "# Visual display random pick\n",
    "plt.hist(ads_selected)\n",
    "plt.title('Histogram of ads selections')\n",
    "plt.xlabel('Ads')\n",
    "plt.ylabel('Number of times each ad was selected')\n",
    "plt.show()"
   ]
  },
  {
   "cell_type": "code",
   "execution_count": null,
   "metadata": {},
   "outputs": [],
   "source": []
  }
 ],
 "metadata": {
  "kernelspec": {
   "display_name": "Python 3",
   "language": "python",
   "name": "python3"
  },
  "language_info": {
   "codemirror_mode": {
    "name": "ipython",
    "version": 3
   },
   "file_extension": ".py",
   "mimetype": "text/x-python",
   "name": "python",
   "nbconvert_exporter": "python",
   "pygments_lexer": "ipython3",
   "version": "3.6.5"
  }
 },
 "nbformat": 4,
 "nbformat_minor": 2
}
